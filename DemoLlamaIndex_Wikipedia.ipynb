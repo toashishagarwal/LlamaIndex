{
  "nbformat": 4,
  "nbformat_minor": 0,
  "metadata": {
    "colab": {
      "provenance": []
    },
    "kernelspec": {
      "name": "python3",
      "display_name": "Python 3"
    },
    "language_info": {
      "name": "python"
    }
  },
  "cells": [
    {
      "cell_type": "code",
      "execution_count": null,
      "metadata": {
        "id": "aREgIhN6a_vM"
      },
      "outputs": [],
      "source": [
        "!pip install llama-index openai pypdf\n",
        "!pip install wikipedia\n",
        "!pip install llama-index-readers-wikipedia"
      ]
    },
    {
      "cell_type": "code",
      "source": [
        "import os\n",
        "os.environ[\"OPENAI_API_KEY\"] = \"\""
      ],
      "metadata": {
        "id": "z-rSzgwfbI9H"
      },
      "execution_count": null,
      "outputs": []
    },
    {
      "cell_type": "code",
      "source": [
        "from llama_index.core import Document, SummaryIndex\n",
        "from llama_index.core.node_parser import SimpleNodeParser\n",
        "from llama_index.readers.wikipedia import WikipediaReader\n",
        "\n",
        "loader = WikipediaReader()\n",
        "documents = loader.load_data(pages=[\"Messi Lionel\"])\n",
        "parser = SimpleNodeParser.from_defaults()\n",
        "nodes = parser.get_nodes_from_documents(documents)\n",
        "index = SummaryIndex(nodes)\n",
        "query_engine = index.as_query_engine()\n",
        "print(\"Ask me anything about Lionel Messi!\")\n",
        "while True:\n",
        "    question = input(\"Your question: \")\n",
        "    if question.lower() == \"exit\":\n",
        "      break\n",
        "response = query_engine.query(question)\n",
        "print(response)"
      ],
      "metadata": {
        "colab": {
          "base_uri": "https://localhost:8080/"
        },
        "id": "dVCOJ4WfbdCF",
        "outputId": "b0e99e1e-6816-42f5-c93d-8323d40004e3"
      },
      "execution_count": null,
      "outputs": [
        {
          "output_type": "stream",
          "name": "stdout",
          "text": [
            "Ask me anything about Lionel Messi!\n",
            "Your question: What is his age\n",
            "Your question: exit\n",
            "Messi has had a highly successful career, winning numerous trophies and accolades both at the club and international level. His impact on the sport of football has been immense, and he has been recognized for his talent and achievements with multiple awards and honors.\n"
          ]
        }
      ]
    }
  ]
}