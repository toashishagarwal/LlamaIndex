{
  "nbformat": 4,
  "nbformat_minor": 0,
  "metadata": {
    "colab": {
      "provenance": []
    },
    "kernelspec": {
      "name": "python3",
      "display_name": "Python 3"
    },
    "language_info": {
      "name": "python"
    }
  },
  "cells": [
    {
      "cell_type": "code",
      "execution_count": null,
      "metadata": {
        "id": "RQapYphcX8wu"
      },
      "outputs": [],
      "source": [
        "!pip install llama-index openai"
      ]
    },
    {
      "cell_type": "code",
      "source": [
        "import os\n",
        "os.environ[\"OPENAI_API_KEY\"] = \"\""
      ],
      "metadata": {
        "id": "dd8rEHWOYMsj"
      },
      "execution_count": null,
      "outputs": []
    },
    {
      "cell_type": "code",
      "source": [
        "from llama_index.core import SummaryIndex, Document\n",
        "from llama_index.core.schema import TextNode"
      ],
      "metadata": {
        "id": "YeISpYvUYVEg"
      },
      "execution_count": null,
      "outputs": []
    },
    {
      "cell_type": "code",
      "source": [
        "nodes = [\n",
        "    TextNode(text=\"Lionel Messi is a football player from Argentina.\"),\n",
        "    TextNode(text=\"He has won the Ballon d'Or trophy 7 times.\"),\n",
        "    TextNode(text=\"Lionel Messi's hometown is Rosario.\"),\n",
        "    TextNode(text=\"He was born on June 24, 1987.\")\n",
        "]\n",
        "index = SummaryIndex(nodes)"
      ],
      "metadata": {
        "id": "P5koM43tYWbu"
      },
      "execution_count": null,
      "outputs": []
    },
    {
      "cell_type": "code",
      "source": [
        "query_engine = index.as_query_engine()\n",
        "response = query_engine.query(\"What is Messi's hometown?\")\n",
        "print(response)"
      ],
      "metadata": {
        "colab": {
          "base_uri": "https://localhost:8080/"
        },
        "id": "RyJfsFJBYiq5",
        "outputId": "962700e3-534d-49f4-ace3-7cf18ab1cbee"
      },
      "execution_count": null,
      "outputs": [
        {
          "output_type": "stream",
          "name": "stdout",
          "text": [
            "Rosario\n"
          ]
        }
      ]
    }
  ]
}